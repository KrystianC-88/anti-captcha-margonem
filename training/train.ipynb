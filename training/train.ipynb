{
 "cells": [
  {
   "cell_type": "code",
   "execution_count": null,
   "metadata": {},
   "outputs": [],
   "source": [
    "!pip install roboflow\n",
    "!pip install yolo\n",
    "!pip install ultralytics\n",
    "import shutil"
   ]
  },
  {
   "cell_type": "code",
   "execution_count": null,
   "metadata": {},
   "outputs": [],
   "source": [
    "\n",
    "### you copy this from roboflow\n",
    "from roboflow import Roboflow\n",
    "rf = Roboflow(api_key=\"ROBOFLOW API KEY HERE\")\n",
    "project = rf.workspace(\"WORKSPACE\").project(\"PROJECTNAME\")\n",
    "version = project.version(2)\n",
    "dataset = version.download(\"yolov5\")\n"
   ]
  },
  {
   "cell_type": "code",
   "execution_count": null,
   "metadata": {},
   "outputs": [],
   "source": [
    "# u gotta move the folders, write the downloaded folder's name from roboflow here\n",
    "projectName = \"MargoDestroyer-1\" #CHANGE THIS LINE\n",
    "\n",
    "shutil.move(f\"{projectName}/train\", \n",
    "            f\"{projectName}/{projectName}/train\")\n",
    "\n",
    "shutil.move(f\"{projectName}/test\", \n",
    "            f\"{projectName}/{projectName}/test\")\n",
    "\n",
    "shutil.move(f\"{projectName}/valid\", \n",
    "            f\"{projectName}/{projectName}/valid\")"
   ]
  },
  {
   "cell_type": "code",
   "execution_count": null,
   "metadata": {},
   "outputs": [],
   "source": [
    "!yolo task=detect mode=train model=/path/to/model.pt data={dataset.location}/data.yaml epochs=200 imgsz=640\n",
    "# this line is for training the yolo model with already trained model. You should use this line with margonemV3.pt model. \n",
    "\n",
    "# you should train the model for new captchas. Every captcha is saved in /captchaphotos\n",
    "# go to Roboflow \n",
    "# upload new captchas from /captchaphotos\n",
    "# create 2 tags: \"normal\", \"upsidedown\"\n",
    "# select all upsidedowns and normal heros\n",
    "# train using this file\n",
    "\n",
    "# !yolo task=detect mode=train model=yolov5l6.pt data={dataset.location}/data.yaml epochs=200 imgsz=640\n",
    "# this line is for training the basic yolo model \n"
   ]
  }
 ],
 "metadata": {
  "kernelspec": {
   "display_name": "Python 3",
   "language": "python",
   "name": "python3"
  },
  "language_info": {
   "codemirror_mode": {
    "name": "ipython",
    "version": 3
   },
   "file_extension": ".py",
   "mimetype": "text/x-python",
   "name": "python",
   "nbconvert_exporter": "python",
   "pygments_lexer": "ipython3",
   "version": "3.9.7"
  }
 },
 "nbformat": 4,
 "nbformat_minor": 2
}
